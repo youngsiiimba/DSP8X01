{
  "nbformat": 4,
  "nbformat_minor": 0,
  "metadata": {
    "colab": {
      "name": "Practical Test 1.ipynb",
      "provenance": [],
      "authorship_tag": "ABX9TyPqHpMwUUwCYyyHTU6/fNOw",
      "include_colab_link": true
    },
    "kernelspec": {
      "name": "python3",
      "display_name": "Python 3"
    },
    "language_info": {
      "name": "python"
    }
  },
  "cells": [
    {
      "cell_type": "markdown",
      "metadata": {
        "id": "view-in-github",
        "colab_type": "text"
      },
      "source": [
        "<a href=\"https://colab.research.google.com/github/youngsiiimba/DSP8X01/blob/main/Practical_Test_1.ipynb\" target=\"_parent\"><img src=\"https://colab.research.google.com/assets/colab-badge.svg\" alt=\"Open In Colab\"/></a>"
      ]
    },
    {
      "cell_type": "code",
      "execution_count": 1,
      "metadata": {
        "id": "BaNfYWaDX9Ey"
      },
      "outputs": [],
      "source": [
        "import matplotlib.pyplot as plt\n",
        "import numpy as np\n",
        "import math"
      ]
    },
    {
      "cell_type": "markdown",
      "source": [
        "###vo = 3 + 12Sin(2π12t + π/2)  sampled by vs = Sin(2π120t)"
      ],
      "metadata": {
        "id": "JPpnxgRLYJZ9"
      }
    },
    {
      "cell_type": "code",
      "source": [
        "Ao = 12\n",
        "fo = 12\n",
        "To = 1/fo\n",
        "\n",
        "fs = 120\n",
        "Ts = 1/fs\n",
        "\n",
        "cycles = 4\n",
        "t=np.arange(0, cycles*To, Ts)\n",
        "x=3 + Ao*np.sin(2*np.pi*fo*t + 90)\n",
        "\n",
        "\n",
        "#plt.plot(x)\n",
        "plt.stem(x)\n",
        "plt.title('PAM signal of: 3 + 12Sin(2π12t + π/2) sampled by vs = Sin(2π120t)')\n",
        "plt.xlabel(\"time\")\n",
        "plt.ylabel(\"Amplitude\")\n",
        "plt.show()"
      ],
      "metadata": {
        "colab": {
          "base_uri": "https://localhost:8080/",
          "height": 350
        },
        "id": "pyl_daieYC3q",
        "outputId": "7ea041a2-af8d-462f-fcfc-42456e1945d1"
      },
      "execution_count": 2,
      "outputs": [
        {
          "output_type": "stream",
          "name": "stderr",
          "text": [
            "/usr/local/lib/python3.7/dist-packages/ipykernel_launcher.py:14: UserWarning: In Matplotlib 3.3 individual lines on a stem plot will be added as a LineCollection instead of individual lines. This significantly improves the performance of a stem plot. To remove this warning and switch to the new behaviour, set the \"use_line_collection\" keyword argument to True.\n",
            "  \n"
          ]
        },
        {
          "output_type": "display_data",
          "data": {
            "text/plain": [
              "<Figure size 432x288 with 1 Axes>"
            ],
            "image/png": "[encoded data removed]"
          },
          "metadata": {
            "needs_background": "light"
          }
        }
      ]
    },
    {
      "cell_type": "markdown",
      "source": [
        "###vo = 3 + 12Sin(2π12t + π/2)  sampled by fs = 50 Hz"
      ],
      "metadata": {
        "id": "FO4AgNkNgV41"
      }
    },
    {
      "cell_type": "code",
      "source": [
        "Ao = 12\n",
        "fo = 12\n",
        "To = 1/fo\n",
        "\n",
        "fs = 50\n",
        "Ts = 1/fs\n",
        "\n",
        "cycles = 4\n",
        "t=np.arange(0, cycles*To, Ts)\n",
        "x=3 + Ao*np.sin(2*np.pi*fo*t + 90)\n",
        "\n",
        "\n",
        "#plt.plot(x)\n",
        "plt.stem(x)\n",
        "plt.title('PAM signal of: 3 + 12Sin(2π12t + π/2) sampled by fs = 50 Hz')\n",
        "plt.xlabel(\"time\")\n",
        "plt.ylabel(\"Amplitude\")\n",
        "plt.show()"
      ],
      "metadata": {
        "colab": {
          "base_uri": "https://localhost:8080/",
          "height": 350
        },
        "id": "ZGYujHnZgT4L",
        "outputId": "24edb83f-39ef-4308-fba4-2f17f0715fea"
      },
      "execution_count": 3,
      "outputs": [
        {
          "output_type": "stream",
          "name": "stderr",
          "text": [
            "/usr/local/lib/python3.7/dist-packages/ipykernel_launcher.py:14: UserWarning: In Matplotlib 3.3 individual lines on a stem plot will be added as a LineCollection instead of individual lines. This significantly improves the performance of a stem plot. To remove this warning and switch to the new behaviour, set the \"use_line_collection\" keyword argument to True.\n",
            "  \n"
          ]
        },
        {
          "output_type": "display_data",
          "data": {
            "text/plain": [
              "<Figure size 432x288 with 1 Axes>"
            ],
            "image/png": "[encoded data removed]"
          },
          "metadata": {
            "needs_background": "light"
          }
        }
      ]
    },
    {
      "cell_type": "markdown",
      "source": [
        "###vo = 3 + 12Sin(2π12t + π/2)  sampled by fs = 150 Hz"
      ],
      "metadata": {
        "id": "uIA2wPtdgZ0h"
      }
    },
    {
      "cell_type": "code",
      "source": [
        "Ao = 12\n",
        "fo = 12\n",
        "To = 1/fo\n",
        "\n",
        "fs = 150\n",
        "Ts = 1/fs\n",
        "\n",
        "cycles = 4\n",
        "t=np.arange(0, cycles*To, Ts)\n",
        "x=3 + Ao*np.sin(2*np.pi*fo*t + 90)\n",
        "\n",
        "\n",
        "#plt.plot(x)\n",
        "plt.stem(x)\n",
        "plt.title('PAM signal of: 3 + 12Sin(2π12t + π/2) sampled by fs 150 Hz')\n",
        "plt.xlabel(\"time\")\n",
        "plt.ylabel(\"Amplitude\")\n",
        "plt.show()"
      ],
      "metadata": {
        "colab": {
          "base_uri": "https://localhost:8080/",
          "height": 350
        },
        "id": "U4I5OBsRgabn",
        "outputId": "705099dc-f737-4567-eac8-e002f99bff00"
      },
      "execution_count": 4,
      "outputs": [
        {
          "output_type": "stream",
          "name": "stderr",
          "text": [
            "/usr/local/lib/python3.7/dist-packages/ipykernel_launcher.py:14: UserWarning: In Matplotlib 3.3 individual lines on a stem plot will be added as a LineCollection instead of individual lines. This significantly improves the performance of a stem plot. To remove this warning and switch to the new behaviour, set the \"use_line_collection\" keyword argument to True.\n",
            "  \n"
          ]
        },
        {
          "output_type": "display_data",
          "data": {
            "text/plain": [
              "<Figure size 432x288 with 1 Axes>"
            ],
            "image/png": "[encoded data removed]"
          },
          "metadata": {
            "needs_background": "light"
          }
        }
      ]
    }
  ]
}